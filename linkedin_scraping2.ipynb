{
 "cells": [
  {
   "cell_type": "code",
   "execution_count": 74,
   "id": "355ffc02",
   "metadata": {},
   "outputs": [],
   "source": [
    "import os, random, sys, time\n",
    "from selenium import webdriver\n",
    "from bs4 import BeautifulSoup\n",
    "from selenium import webdriver\n",
    "from selenium.webdriver.chrome.options import Options\n",
    "from selenium.webdriver.chrome.service import Service\n",
    "from webdriver_manager.chrome import ChromeDriverManager\n",
    "from selenium.webdriver.common.by import By\n",
    "from selenium.webdriver.support import expected_conditions as EC\n",
    "from selenium.webdriver.support.ui import WebDriverWait\n",
    "\n",
    "from selenium.webdriver.common.action_chains import ActionChains  #Permet de faire des entrees clavier\n",
    "from keys import Keys"
   ]
  },
  {
   "cell_type": "code",
   "execution_count": 75,
   "id": "23d546d2",
   "metadata": {
    "tags": []
   },
   "outputs": [],
   "source": [
    "\"\"\" Ce programme à pour nom Poppy \"\"\"\n",
    "\n",
    "s=Service(\"C:/Users/hboil/Downloads/Poppy_linkedin-main/Poppy_linkedin-main/chromedriver.exe\") # Indique la route ou se trouve le dossier chrome driver\n",
    "browser = webdriver.Chrome(service=s) # L'on instancie browser qui vas nous permettre de lancer des pages web\n",
    "url=\"https://www.linkedin.com/uas/login\" #URL qui vas rediriger vers la login page\n",
    "browser.get(url) # Lance la page web\n",
    "time.sleep(2)\n",
    "file = open(\"id.txt\") # Poppy vas open le fichier ou ce trouve nos id de connexion\n",
    "lines = file.readlines()\n",
    "username = lines[0] # première ligne = username\n",
    "password = lines[1] # seconde ligne = password\n",
    "\n",
    "elementID = browser.find_element(By.ID, 'username') # l'on as obtenu l'id 'username' en inspectant le code source de la page login\n",
    "\n",
    "3\n",
    "elementID.send_keys(username) # Poppy vas écrire le username sur la page login\n",
    "elementID = browser.find_element(By.ID, 'password') #\n",
    "elementID.send_keys(password) # Poppy vas écrire le password \n",
    "\n",
    "\n",
    "\n",
    "elementID.submit() # Click sur connexion ou press enter, comme tu veux.\n"
   ]
  },
  {
   "cell_type": "code",
   "execution_count": null,
   "id": "24318e4b",
   "metadata": {
    "tags": []
   },
   "outputs": [],
   "source": []
  },
  {
   "cell_type": "code",
   "execution_count": 76,
   "id": "5e6b2dc5",
   "metadata": {
    "tags": []
   },
   "outputs": [
    {
     "data": {
      "text/plain": [
       "'#compagny_network_security = [\"sunbren\", \"cybelius\", \"geoide\", \"cetrac\"]\\nfiles_2 = open(\"network_compagny.txt\")\\nlines_2 = file_2.readline()\\nprint(lines_2)\\nfor each in files_2:\\n    compagny_network_security.append(each)\\n\\nelementCLASS = browser.find_element(By.CLASS_NAME, \\'search-global-typeahead__collapsed-search-button\\')\\nfor each in compagny_network_security:\\n    elementCLASS.send_keys(each)\\n    elementCLASS.submit()\\n    time.sleep(10)'"
      ]
     },
     "execution_count": 76,
     "metadata": {},
     "output_type": "execute_result"
    }
   ],
   "source": [
    "\"\"\" Recherche Société \"\"\"\n",
    "time.sleep(2)\n",
    "compagny = \"sunbre\"\n",
    "\n",
    "elementID = browser.find_element(by=By.XPATH, value=\"//input[@placeholder='Recherche']\").click()  #On fait une recherche par placeholder, un seul champ Recherche existe\n",
    "elementID.send_keys(compagny)\n",
    "ActionChains(browser).key_down(Keys.ENTER).perform() #Appuie basiquement sur la touche entree\n",
    "\n",
    "time.sleep(2)\n",
    "\n",
    "\"\"\"#compagny_network_security = [\"sunbren\", \"cybelius\", \"geoide\", \"cetrac\"]\n",
    "files_2 = open(\"network_compagny.txt\")\n",
    "lines_2 = file_2.readline()\n",
    "print(lines_2)\n",
    "for each in files_2:\n",
    "    compagny_network_security.append(each)\n",
    "\n",
    "elementCLASS = browser.find_element(By.CLASS_NAME, 'search-global-typeahead__collapsed-search-button')\n",
    "for each in compagny_network_security:\n",
    "    elementCLASS.send_keys(each)\n",
    "    elementCLASS.submit()\n",
    "    time.sleep(10)\"\"\"\n"
   ]
  },
  {
   "cell_type": "code",
   "execution_count": 77,
   "id": "0fadce74",
   "metadata": {
    "tags": []
   },
   "outputs": [
    {
     "data": {
      "text/plain": [
       "'visitingProfilID = \\'in/damien-seniau-347851223/\\'\\nfullLink = \\'https://www.linkedin.com/\\' + visitingProfilID\\nbrowser.get(fullLink)\\n\\nvisitedProfiles = []\\nprofilesQueued = []\\n\\ndef getNewProfilIDs(soup, profilesQueued):\\n    profilesID = []\\n    pav = soup.find(\\'section\\', {\\'class\\': \"artdeco-card ember-view mt2\"})\\n    all_links = pav.findAll(\\'a\\', {\\'class\\': \"ember-view display-flex link-without-hover-visited\"})\\n    for link in all_links:\\n        userID = link.get(\"href\")\\n        if((userID not in profilesQueued) and (userID not in visitedProfiles)):\\n            profilesID.append(userID)\\n    return profilesID\\n\\ngetNewProfilIDs(BeautifulSoup(browser.page_source), profilesQueued)'"
      ]
     },
     "execution_count": 77,
     "metadata": {},
     "output_type": "execute_result"
    }
   ],
   "source": [
    "\"\"\" Obtenir Id de link dans le but d'ajoutée automatiquement des personnes \"\"\"\n",
    "\n",
    "\"\"\"visitingProfilID = 'in/damien-seniau-347851223/'\n",
    "fullLink = 'https://www.linkedin.com/' + visitingProfilID\n",
    "browser.get(fullLink)\n",
    "\n",
    "visitedProfiles = []\n",
    "profilesQueued = []\n",
    "\n",
    "def getNewProfilIDs(soup, profilesQueued):\n",
    "    profilesID = []\n",
    "    pav = soup.find('section', {'class': \"artdeco-card ember-view mt2\"})\n",
    "    all_links = pav.findAll('a', {'class': \"ember-view display-flex link-without-hover-visited\"})\n",
    "    for link in all_links:\n",
    "        userID = link.get(\"href\")\n",
    "        if((userID not in profilesQueued) and (userID not in visitedProfiles)):\n",
    "            profilesID.append(userID)\n",
    "    return profilesID\n",
    "\n",
    "getNewProfilIDs(BeautifulSoup(browser.page_source), profilesQueued)\"\"\""
   ]
  },
  {
   "cell_type": "code",
   "execution_count": null,
   "id": "ecc4159a",
   "metadata": {
    "tags": []
   },
   "outputs": [],
   "source": []
  }
 ],
 "metadata": {
  "kernelspec": {
   "display_name": "Python 3 (ipykernel)",
   "language": "python",
   "name": "python3"
  },
  "language_info": {
   "codemirror_mode": {
    "name": "ipython",
    "version": 3
   },
   "file_extension": ".py",
   "mimetype": "text/x-python",
   "name": "python",
   "nbconvert_exporter": "python",
   "pygments_lexer": "ipython3",
   "version": "3.9.12"
  }
 },
 "nbformat": 4,
 "nbformat_minor": 5
}
