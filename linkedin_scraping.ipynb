{
 "cells": [
  {
   "cell_type": "code",
   "execution_count": 1,
   "id": "fdee7ce1",
   "metadata": {},
   "outputs": [
    {
     "data": {
      "text/plain": [
       "' Ce programme à pour nom Poppy '"
      ]
     },
     "execution_count": 1,
     "metadata": {},
     "output_type": "execute_result"
    }
   ],
   "source": [
    "import os, random, sys, time, re\n",
    "from selenium import webdriver\n",
    "from bs4 import BeautifulSoup\n",
    "from selenium import webdriver\n",
    "from selenium.webdriver.chrome.options import Options\n",
    "from selenium.webdriver.chrome.service import Service\n",
    "from webdriver_manager.chrome import ChromeDriverManager\n",
    "from selenium.webdriver.common.by import By\n",
    "from selenium.webdriver.support import expected_conditions as EC\n",
    "from selenium.webdriver.support.ui import WebDriverWait\n",
    "from selenium.webdriver.common.action_chains import ActionChains  #Permet de faire des entrees clavier\n",
    "from selenium.webdriver.common.keys import Keys\n",
    "\n",
    "\"\"\" Ce programme à pour nom Poppy \"\"\""
   ]
  },
  {
   "cell_type": "code",
   "execution_count": 2,
   "id": "37e4ec88",
   "metadata": {},
   "outputs": [],
   "source": [
    "\"\"\" Login à Linkedin \"\"\"\n",
    "\n",
    "\n",
    "s=Service(\"C:/Users/hboil/Documents/JupyterLab/chromedriver.exe\") # Indique la route ou se trouve le dossier chrome driver\n",
    "browser = webdriver.Chrome(service=s) # L'on instancie browser qui vas nous permettre de lancer des pages web\n",
    "url=\"https://www.linkedin.com/uas/login\" #URL qui vas rediriger vers la login page\n",
    "browser.get(url) # Lance la page web\n",
    "time.sleep(2)\n",
    "file = open(\"id.txt\") # Poppy vas open le fichier ou ce trouve nos id de connexion\n",
    "lines = file.readlines()\n",
    "username = lines[0] # première ligne = username\n",
    "password = lines[1] # seconde ligne = password\n",
    "elementID = browser.find_element(By.ID, 'username') # l'on as obtenu l'id 'username' en inspectant le code source de la page login\n",
    "elementID.send_keys(username) # Poppy vas écrire le username sur la page login\n",
    "elementID = browser.find_element(By.ID, 'password') \n",
    "elementID.send_keys(password) # Poppy écrit le password \n",
    "\n",
    "elementID.submit() # Click sur connexion ou press enter, comme tu veux.\n"
   ]
  },
  {
   "cell_type": "code",
   "execution_count": null,
   "id": "8ce2fb52",
   "metadata": {},
   "outputs": [],
   "source": []
  },
  {
   "cell_type": "code",
   "execution_count": 3,
   "id": "d7424f8d",
   "metadata": {},
   "outputs": [],
   "source": [
    "\"\"\" Recherche les société souhaiter \"\"\"\n",
    "\n",
    "elementID = browser.find_element(By.ID, \"global-nav-search\").click()\n",
    "time.sleep(2)\n",
    "compagny = \"Atos\"\n",
    "elementID = browser.find_element(by=By.XPATH, value=\"//input[@placeholder='Recherche']\").send_keys(compagny)\n",
    "ActionChains(browser).key_down(Keys.ENTER).perform()\n",
    "time.sleep(2)\n",
    "elementCLASS = browser.find_element(By.XPATH, value=\"//a[@class='app-aware-link']\").click()\n",
    "time.sleep(2)\n",
    "elementCLASS = browser.find_element(By.XPATH, value=\"//a[@class='ember-view']\").click()\n",
    "#ember-view\n",
    "#ActionChains(browser).key_down(Keys.ENTER).perform()\n",
    "time.sleep(2)\n"
   ]
  },
  {
   "cell_type": "code",
   "execution_count": 4,
   "id": "0fcbe853",
   "metadata": {},
   "outputs": [
    {
     "name": "stdout",
     "output_type": "stream",
     "text": [
      "  Anne-Charlotte Tric\n",
      "  Victor Verdet\n",
      "  Lena Chanoir\n",
      "  Rachelle Legrand\n",
      "  Laurence Poilfoulot\n",
      "  Aurore LE PEUC'H\n",
      "  Morgane Mirabaud\n",
      "  Philippe Pagnot\n"
     ]
    }
   ],
   "source": [
    "\"\"\" Obtenir les noms des employée de Compagny X \"\"\"\n",
    "\n",
    "def getNewProfilIDs(soup):\n",
    "    nameProfil = []\n",
    "    profilesID = []\n",
    "    \n",
    "    profilsTexte = soup.find('div', {'class' : \"mb2\"}).text\n",
    "    profilsTexte = profilsTexte.replace(\"\\n\", '')\n",
    "    profilsTexte = profilsTexte.replace(\"    \", '\\n')\n",
    "    profilsTexte = profilsTexte.replace(\"Le statut est hors ligne\", '')\n",
    "    profilsTexte = profilsTexte.replace(\" •\", '\\n•')\n",
    "    profilsTexte = profilsTexte.replace(\"Se connecter\", '')\n",
    "    profilsTexte = profilsTexte.replace(\"Voir le profil de \", '¤') #Un caractere qui ne passe normalement pas dans linkedin\n",
    "    \n",
    "    listeProfils = profilsTexte.split('\\n')\n",
    "    listeProfilsNettoyes = []\n",
    "    for ligne in listeProfils:\n",
    "        #print(ligne)\n",
    "        if('¤' in ligne):\n",
    "            listeProfilsNettoyes.append({\"nom\" : ligne.split('¤')[0]}) #On ajoute le nom de la personne\n",
    "        elif(len(ligne) > 4):\n",
    "            if(not \"infosComplementaires\" in listeProfilsNettoyes[len(listeProfilsNettoyes)-1]): #Si des infos supplementaires existent deja\n",
    "                listeProfilsNettoyes[-1][\"infosComplementaires\"] = ligne\n",
    "            else:\n",
    "                listeProfilsNettoyes[-1][\"infosComplementaires\"] += ligne #Sinon on les ajoute aux infos precedentes\n",
    "    \n",
    "    return listeProfilsNettoyes #Il suffit de parcourir le dico par noms pour obtenir les noms, par infos complementaire autrement\n",
    "\n",
    "\n",
    "listeProfils = getNewProfilIDs(BeautifulSoup(browser.page_source))\n",
    "for profil in listeProfils:\n",
    "    print(profil[\"nom\"])\n",
    "\n",
    "\n",
    "\n"
   ]
  },
  {
   "cell_type": "code",
   "execution_count": null,
   "id": "f8484ea1",
   "metadata": {},
   "outputs": [],
   "source": []
  },
  {
   "cell_type": "code",
   "execution_count": null,
   "id": "58c7fc52",
   "metadata": {},
   "outputs": [],
   "source": []
  },
  {
   "cell_type": "code",
   "execution_count": null,
   "id": "410986a7",
   "metadata": {},
   "outputs": [],
   "source": []
  },
  {
   "cell_type": "code",
   "execution_count": null,
   "id": "a9cbc1ea",
   "metadata": {},
   "outputs": [],
   "source": []
  },
  {
   "cell_type": "code",
   "execution_count": null,
   "id": "7c590c87",
   "metadata": {},
   "outputs": [],
   "source": []
  },
  {
   "cell_type": "code",
   "execution_count": null,
   "id": "0038b781",
   "metadata": {},
   "outputs": [],
   "source": []
  },
  {
   "cell_type": "code",
   "execution_count": null,
   "id": "466fde17",
   "metadata": {},
   "outputs": [],
   "source": []
  },
  {
   "cell_type": "code",
   "execution_count": null,
   "id": "232f0e4f",
   "metadata": {},
   "outputs": [],
   "source": []
  },
  {
   "cell_type": "code",
   "execution_count": null,
   "id": "4b530965",
   "metadata": {},
   "outputs": [],
   "source": []
  },
  {
   "cell_type": "code",
   "execution_count": null,
   "id": "4a515f34",
   "metadata": {},
   "outputs": [],
   "source": []
  },
  {
   "cell_type": "code",
   "execution_count": null,
   "id": "3bf872de",
   "metadata": {},
   "outputs": [],
   "source": []
  },
  {
   "cell_type": "code",
   "execution_count": null,
   "id": "d168f01c",
   "metadata": {},
   "outputs": [],
   "source": []
  },
  {
   "cell_type": "code",
   "execution_count": null,
   "id": "f177ece8",
   "metadata": {},
   "outputs": [],
   "source": []
  },
  {
   "cell_type": "code",
   "execution_count": null,
   "id": "b25845c2",
   "metadata": {},
   "outputs": [],
   "source": []
  },
  {
   "cell_type": "code",
   "execution_count": null,
   "id": "6c0c4a3a",
   "metadata": {},
   "outputs": [],
   "source": []
  },
  {
   "cell_type": "code",
   "execution_count": null,
   "id": "12ad6dd5",
   "metadata": {},
   "outputs": [],
   "source": []
  },
  {
   "cell_type": "code",
   "execution_count": null,
   "id": "71334e3d",
   "metadata": {},
   "outputs": [],
   "source": []
  },
  {
   "cell_type": "code",
   "execution_count": null,
   "id": "982dc418-4719-4258-8f00-8715c1d3930f",
   "metadata": {},
   "outputs": [],
   "source": []
  }
 ],
 "metadata": {
  "kernelspec": {
   "display_name": "Python 3 (ipykernel)",
   "language": "python",
   "name": "python3"
  },
  "language_info": {
   "codemirror_mode": {
    "name": "ipython",
    "version": 3
   },
   "file_extension": ".py",
   "mimetype": "text/x-python",
   "name": "python",
   "nbconvert_exporter": "python",
   "pygments_lexer": "ipython3",
   "version": "3.9.12"
  }
 },
 "nbformat": 4,
 "nbformat_minor": 5
}
